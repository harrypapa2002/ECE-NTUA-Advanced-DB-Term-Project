{
 "cells": [
  {
   "cell_type": "markdown",
   "id": "536d570e",
   "metadata": {},
   "source": [
    "# Query 2: Top Performing Police Divisions\n",
    "\n",
    "## Description:\n",
    "\n",
    "The goal of Query 2 is to identify the top three police precincts in Los Angeles with the highest case resolution rates for each year. The analysis includes:\n",
    "\n",
    "- Calculating the closed case rate for each precinct and year.\n",
    "\n",
    "- Ranking the precincts annually based on their resolution rates.\n",
    "\n",
    "- Selecting the top three precincts per year.\n",
    "\n",
    "This task is implemented using both the DataFrame API and the SQL API in PySpark. The results are saved as CSV files for further analysis. The execution time for both implementations is measured and compared to evaluate their performance.\n",
    "\n"
   ]
  },
  {
   "cell_type": "code",
   "execution_count": 1,
   "id": "b90b08eb",
   "metadata": {},
   "outputs": [
    {
     "name": "stdout",
     "output_type": "stream",
     "text": [
      "Starting Spark application\n"
     ]
    },
    {
     "data": {
      "text/html": [
       "<table>\n",
       "<tr><th>ID</th><th>YARN Application ID</th><th>Kind</th><th>State</th><th>Spark UI</th><th>Driver log</th><th>User</th><th>Current session?</th></tr><tr><td>2917</td><td>application_1732639283265_2876</td><td>pyspark</td><td>idle</td><td><a target=\"_blank\" href=\"http://ip-192-168-1-36.eu-central-1.compute.internal:20888/proxy/application_1732639283265_2876/\">Link</a></td><td><a target=\"_blank\" href=\"http://ip-192-168-1-203.eu-central-1.compute.internal:8042/node/containerlogs/container_1732639283265_2876_01_000001/livy\">Link</a></td><td>None</td><td>✔</td></tr></table>"
      ],
      "text/plain": [
       "<IPython.core.display.HTML object>"
      ]
     },
     "metadata": {},
     "output_type": "display_data"
    },
    {
     "data": {
      "application/vnd.jupyter.widget-view+json": {
       "model_id": "",
       "version_major": 2,
       "version_minor": 0
      },
      "text/plain": [
       "FloatProgress(value=0.0, bar_style='info', description='Progress:', layout=Layout(height='25px', width='50%'),…"
      ]
     },
     "metadata": {},
     "output_type": "display_data"
    },
    {
     "name": "stdout",
     "output_type": "stream",
     "text": [
      "SparkSession available as 'spark'.\n"
     ]
    },
    {
     "data": {
      "application/vnd.jupyter.widget-view+json": {
       "model_id": "",
       "version_major": 2,
       "version_minor": 0
      },
      "text/plain": [
       "FloatProgress(value=0.0, bar_style='info', description='Progress:', layout=Layout(height='25px', width='50%'),…"
      ]
     },
     "metadata": {},
     "output_type": "display_data"
    }
   ],
   "source": [
    "from pyspark.sql import SparkSession\n",
    "from pyspark.sql.functions import col, count, when, rank, extract, to_timestamp, to_date, year\n",
    "from pyspark.sql.window import Window\n",
    "\n",
    "def dataframe_implementation(spark, form):\n",
    "    crime_data_2010_2019 = spark.read.csv(\"s3://initial-notebook-data-bucket-dblab-905418150721/CrimeData/Crime_Data_from_2010_to_2019_20241101.csv\", header=True, inferSchema=True)\n",
    "    crime_data_2020_present = spark.read.csv(\"s3://initial-notebook-data-bucket-dblab-905418150721/CrimeData/Crime_Data_from_2020_to_Present_20241101.csv\", header=True, inferSchema=True)\n",
    "    mid_time = time.time()\n",
    "    combined_data = (\n",
    "        crime_data_2010_2019.select(\n",
    "            year(to_timestamp(col(\"DATE OCC\"), \"MM/dd/yyyy hh:mm:ss a\")).alias(\"year\"),\n",
    "            col(\"AREA NAME\").alias(\"precinct\"),\n",
    "            when((col(\"Status Desc\") != \"UNK\") & (col(\"Status Desc\") != \"Invest Cont\"), 1).otherwise(0).alias(\"closed_case\")\n",
    "        ).union(\n",
    "            crime_data_2020_present.select(\n",
    "                year(to_timestamp(col(\"DATE OCC\"), \"MM/dd/yyyy hh:mm:ss a\")).alias(\"year\"),\n",
    "                col(\"AREA NAME\").alias(\"precinct\"),\n",
    "                when((col(\"Status Desc\") != \"UNK\") & (col(\"Status Desc\") != \"Invest Cont\"), 1).otherwise(0).alias(\"closed_case\")\n",
    "            )\n",
    "        )\n",
    "    )\n",
    "    processed_data = (\n",
    "        combined_data\n",
    "        .groupBy(\"year\", \"precinct\")\n",
    "        .agg(\n",
    "            (count(when(col(\"closed_case\") == 1, 1)) * 100.0 / count(\"*\")).alias(\"closed_case_rate\"),\n",
    "            count(\"*\").alias(\"total_cases\")\n",
    "        )\n",
    "    )\n",
    "    window_spec = Window.partitionBy(\"year\").orderBy(col(\"closed_case_rate\").desc())\n",
    "    ranked_data = processed_data.withColumn(\"#\", rank().over(window_spec))\n",
    "    top_3_precincts_per_year = (\n",
    "        ranked_data\n",
    "        .filter(col(\"#\") <= 3)\n",
    "        .select(\"year\", \"precinct\", \"closed_case_rate\", \"#\")\n",
    "        .orderBy(\"year\", \"#\")\n",
    "    )\n",
    "    top_3_precincts_per_year.show(n=50, truncate=False)\n",
    "    return time.time(), mid_time, top_3_precincts_per_year"
   ]
  },
  {
   "cell_type": "code",
   "execution_count": 2,
   "id": "ffa6b6ad",
   "metadata": {},
   "outputs": [
    {
     "data": {
      "application/vnd.jupyter.widget-view+json": {
       "model_id": "",
       "version_major": 2,
       "version_minor": 0
      },
      "text/plain": [
       "FloatProgress(value=0.0, bar_style='info', description='Progress:', layout=Layout(height='25px', width='50%'),…"
      ]
     },
     "metadata": {},
     "output_type": "display_data"
    }
   ],
   "source": [
    "def sql_implementation(spark, form = 'csv'):\n",
    "    if form == 'csv':\n",
    "        crime_data_2010_2019 = spark.read.csv(\"s3://initial-notebook-data-bucket-dblab-905418150721/CrimeData/Crime_Data_from_2010_to_2019_20241101.csv\", header=True, inferSchema=True)\n",
    "        crime_data_2020_present = spark.read.csv(\"s3://initial-notebook-data-bucket-dblab-905418150721/CrimeData/Crime_Data_from_2020_to_Present_20241101.csv\", header=True, inferSchema=True)\n",
    "    else:\n",
    "        crime_data_2010_2019 = spark.read.parquet(\"s3://groups-bucket-dblab-905418150721/group21/Crime_Data_from_2010_to_2019_20241101.parquet\", header=True, inferSchema=True)\n",
    "        crime_data_2020_present = spark.read.parquet(\"s3://groups-bucket-dblab-905418150721/group21/Crime_Data_from_2020_to_Present_20241101.parquet\", header=True, inferSchema=True)\n",
    "    crime_data_2010_2019.createOrReplaceTempView(\"crime_data_2010_2019\")\n",
    "    crime_data_2020_present.createOrReplaceTempView(\"crime_data_2020_present\")\n",
    "    mid_time = time.time()\n",
    "# SQL Query for top 3 precincts\n",
    "    sql_query = \"\"\"\n",
    "    WITH combined_data AS (\n",
    "        SELECT \n",
    "            to_date(`DATE OCC`, 'MM/dd/yyyy hh:mm:ss a') AS date,\n",
    "            `AREA NAME` AS precinct,\n",
    "            `Status Desc`\n",
    "        FROM crime_data_2010_2019\n",
    "        UNION ALL\n",
    "        SELECT \n",
    "            to_date(`DATE OCC`, 'MM/dd/yyyy hh:mm:ss a') AS date,\n",
    "            `AREA NAME` AS precinct,\n",
    "            `Status Desc`\n",
    "        FROM crime_data_2020_present\n",
    "    ),\n",
    "    processed_data AS (\n",
    "        SELECT \n",
    "            YEAR(date) AS year,\n",
    "            precinct,\n",
    "            COUNT(CASE WHEN (`Status Desc` <> 'UNK' AND `Status Desc` <> 'Invest Cont') THEN 1 END) * 100.0 / COUNT(*) AS closed_case_rate,\n",
    "            RANK() OVER (PARTITION BY YEAR(date) ORDER BY COUNT(CASE WHEN (`Status Desc` <> 'UNK' AND `Status Desc` <> 'Invest Cont') THEN 1 END) * 100.0 / COUNT(*) DESC) AS rank\n",
    "        FROM combined_data\n",
    "        GROUP BY YEAR(date), precinct\n",
    "    )\n",
    "    SELECT \n",
    "        year, \n",
    "        precinct, \n",
    "        closed_case_rate, \n",
    "        rank\n",
    "    FROM processed_data\n",
    "    WHERE rank <= 3\n",
    "    ORDER BY year, rank\n",
    "    \"\"\"\n",
    "\n",
    "    top_3_precincts_per_year_sql = spark.sql(sql_query)\n",
    "\n",
    "    top_3_precincts_per_year_sql.show(n=50, truncate=False)\n",
    "    return time.time(), mid_time, top_3_precincts_per_year_sql"
   ]
  },
  {
   "cell_type": "code",
   "execution_count": 3,
   "id": "caeba462",
   "metadata": {},
   "outputs": [
    {
     "data": {
      "application/vnd.jupyter.widget-view+json": {
       "model_id": "",
       "version_major": 2,
       "version_minor": 0
      },
      "text/plain": [
       "FloatProgress(value=0.0, bar_style='info', description='Progress:', layout=Layout(height='25px', width='50%'),…"
      ]
     },
     "metadata": {},
     "output_type": "display_data"
    }
   ],
   "source": [
    "import time\n",
    "\n",
    "def measure_execution_time(func, question, form = 'csv'):\n",
    "    spark = SparkSession.builder \\\n",
    "                    .appName(question) \\\n",
    "                    .getOrCreate()\n",
    "    spark.catalog.clearCache()\n",
    "    start_time = time.time()\n",
    "    end_time, mid_time, df  = func(spark, form)\n",
    "    return end_time - mid_time, mid_time - start_time, df"
   ]
  },
  {
   "cell_type": "code",
   "execution_count": 9,
   "id": "0c34b7f6",
   "metadata": {},
   "outputs": [
    {
     "data": {
      "application/vnd.jupyter.widget-view+json": {
       "model_id": "",
       "version_major": 2,
       "version_minor": 0
      },
      "text/plain": [
       "FloatProgress(value=0.0, bar_style='info', description='Progress:', layout=Layout(height='25px', width='50%'),…"
      ]
     },
     "metadata": {},
     "output_type": "display_data"
    },
    {
     "name": "stdout",
     "output_type": "stream",
     "text": [
      "+----+-----------+------------------+---+\n",
      "|year|precinct   |closed_case_rate  |#  |\n",
      "+----+-----------+------------------+---+\n",
      "|2010|Rampart    |32.84713448949121 |1  |\n",
      "|2010|Olympic    |31.515289821999087|2  |\n",
      "|2010|Harbor     |29.36028339237341 |3  |\n",
      "|2011|Olympic    |35.0400600901352  |1  |\n",
      "|2011|Rampart    |32.496447181430604|2  |\n",
      "|2011|Harbor     |28.513362463164313|3  |\n",
      "|2012|Olympic    |34.29708533302119 |1  |\n",
      "|2012|Rampart    |32.46000463714352 |2  |\n",
      "|2012|Harbor     |29.50958584895668 |3  |\n",
      "|2013|Olympic    |33.58217940999398 |1  |\n",
      "|2013|Rampart    |32.1060382916053  |2  |\n",
      "|2013|Harbor     |29.723638951488553|3  |\n",
      "|2014|Van Nuys   |32.0215235281705  |1  |\n",
      "|2014|West Valley|31.49754809505847 |2  |\n",
      "|2014|Mission    |31.22493985565357 |3  |\n",
      "|2015|Van Nuys   |32.265140677157845|1  |\n",
      "|2015|Mission    |30.463762673676303|2  |\n",
      "|2015|Foothill   |30.353001803658852|3  |\n",
      "|2016|Van Nuys   |32.194518462124094|1  |\n",
      "|2016|West Valley|31.40146437042384 |2  |\n",
      "|2016|Foothill   |29.90864722813165 |3  |\n",
      "|2017|Van Nuys   |32.0554272517321  |1  |\n",
      "|2017|Mission    |31.055387158996968|2  |\n",
      "|2017|Foothill   |30.469700657094183|3  |\n",
      "|2018|Foothill   |30.731346958877126|1  |\n",
      "|2018|Mission    |30.727023319615913|2  |\n",
      "|2018|Van Nuys   |28.90520694259012 |3  |\n",
      "|2019|Mission    |30.727411112319235|1  |\n",
      "|2019|West Valley|30.57974335472044 |2  |\n",
      "|2019|N Hollywood|29.238086691196266|3  |\n",
      "|2020|West Valley|30.771131982204647|1  |\n",
      "|2020|Mission    |30.149746492158943|2  |\n",
      "|2020|Harbor     |29.693486590038315|3  |\n",
      "|2021|Mission    |30.318115590092276|1  |\n",
      "|2021|West Valley|28.971087440009363|2  |\n",
      "|2021|Foothill   |27.993757094211123|3  |\n",
      "|2022|West Valley|26.536367172306495|1  |\n",
      "|2022|Harbor     |26.337538060026098|2  |\n",
      "|2022|Topanga    |26.234013317831096|3  |\n",
      "|2023|Foothill   |26.760760201229736|1  |\n",
      "|2023|Topanga    |26.53802261645399 |2  |\n",
      "|2023|Mission    |25.66273112051682 |3  |\n",
      "|2024|N Hollywood|19.598528961078763|1  |\n",
      "|2024|Foothill   |18.620882188721385|2  |\n",
      "|2024|77th Street|17.586318167150694|3  |\n",
      "+----+-----------+------------------+---+\n",
      "DataFrame API Execution Time: 5.803480863571167 seconds\n",
      "DataFrame API Read Time: 13.403721332550049 seconds\n",
      "DataFrame API Total Time: 19.207202196121216 seconds"
     ]
    }
   ],
   "source": [
    "df_api_time, df_read_api_time, _ = measure_execution_time(dataframe_implementation, \"Query 2a Dataframe\")\n",
    "\n",
    "print(f\"DataFrame API Execution Time: {df_api_time} seconds\")\n",
    "print(f\"DataFrame API Read Time: {df_read_api_time} seconds\")\n",
    "print(f\"DataFrame API Total Time: {df_api_time + df_read_api_time} seconds\")"
   ]
  },
  {
   "cell_type": "code",
   "execution_count": 8,
   "id": "55b75628",
   "metadata": {},
   "outputs": [
    {
     "data": {
      "application/vnd.jupyter.widget-view+json": {
       "model_id": "",
       "version_major": 2,
       "version_minor": 0
      },
      "text/plain": [
       "FloatProgress(value=0.0, bar_style='info', description='Progress:', layout=Layout(height='25px', width='50%'),…"
      ]
     },
     "metadata": {},
     "output_type": "display_data"
    },
    {
     "name": "stdout",
     "output_type": "stream",
     "text": [
      "+----+-----------+-----------------+----+\n",
      "|year|precinct   |closed_case_rate |rank|\n",
      "+----+-----------+-----------------+----+\n",
      "|2010|Rampart    |32.84713448949121|1   |\n",
      "|2010|Olympic    |31.51528982199909|2   |\n",
      "|2010|Harbor     |29.36028339237341|3   |\n",
      "|2011|Olympic    |35.04006009013520|1   |\n",
      "|2011|Rampart    |32.49644718143060|2   |\n",
      "|2011|Harbor     |28.51336246316431|3   |\n",
      "|2012|Olympic    |34.29708533302119|1   |\n",
      "|2012|Rampart    |32.46000463714352|2   |\n",
      "|2012|Harbor     |29.50958584895668|3   |\n",
      "|2013|Olympic    |33.58217940999398|1   |\n",
      "|2013|Rampart    |32.10603829160530|2   |\n",
      "|2013|Harbor     |29.72363895148855|3   |\n",
      "|2014|Van Nuys   |32.02152352817050|1   |\n",
      "|2014|West Valley|31.49754809505847|2   |\n",
      "|2014|Mission    |31.22493985565357|3   |\n",
      "|2015|Van Nuys   |32.26514067715784|1   |\n",
      "|2015|Mission    |30.46376267367630|2   |\n",
      "|2015|Foothill   |30.35300180365885|3   |\n",
      "|2016|Van Nuys   |32.19451846212410|1   |\n",
      "|2016|West Valley|31.40146437042384|2   |\n",
      "|2016|Foothill   |29.90864722813165|3   |\n",
      "|2017|Van Nuys   |32.05542725173210|1   |\n",
      "|2017|Mission    |31.05538715899697|2   |\n",
      "|2017|Foothill   |30.46970065709418|3   |\n",
      "|2018|Foothill   |30.73134695887712|1   |\n",
      "|2018|Mission    |30.72702331961591|2   |\n",
      "|2018|Van Nuys   |28.90520694259012|3   |\n",
      "|2019|Mission    |30.72741111231923|1   |\n",
      "|2019|West Valley|30.57974335472044|2   |\n",
      "|2019|N Hollywood|29.23808669119627|3   |\n",
      "|2020|West Valley|30.77113198220465|1   |\n",
      "|2020|Mission    |30.14974649215894|2   |\n",
      "|2020|Harbor     |29.69348659003831|3   |\n",
      "|2021|Mission    |30.31811559009228|1   |\n",
      "|2021|West Valley|28.97108744000936|2   |\n",
      "|2021|Foothill   |27.99375709421112|3   |\n",
      "|2022|West Valley|26.53636717230650|1   |\n",
      "|2022|Harbor     |26.33753806002610|2   |\n",
      "|2022|Topanga    |26.23401331783110|3   |\n",
      "|2023|Foothill   |26.76076020122974|1   |\n",
      "|2023|Topanga    |26.53802261645399|2   |\n",
      "|2023|Mission    |25.66273112051682|3   |\n",
      "|2024|N Hollywood|19.59852896107876|1   |\n",
      "|2024|Foothill   |18.62088218872138|2   |\n",
      "|2024|77th Street|17.58631816715069|3   |\n",
      "+----+-----------+-----------------+----+\n",
      "SQL API Execution Time: 6.0684356689453125 seconds\n",
      "SQL API Read Time: 13.766726970672607 seconds\n",
      "SQL API Total Time: 19.83516263961792 seconds"
     ]
    }
   ],
   "source": [
    "sql_api_time, sql_read_api_time, _ = measure_execution_time(sql_implementation, \"Query 2a SQL\")\n",
    "\n",
    "print(f\"SQL API Execution Time: {sql_api_time} seconds\")\n",
    "print(f\"SQL API Read Time: {sql_read_api_time} seconds\")\n",
    "print(f\"SQL API Total Time: {sql_api_time + sql_read_api_time} seconds\")"
   ]
  },
  {
   "cell_type": "code",
   "execution_count": null,
   "id": "f677d5c5",
   "metadata": {},
   "outputs": [],
   "source": [
    "from pyspark.sql import SparkSession\n",
    "\n",
    "spark = SparkSession.builder \\\n",
    "    .appName(\"Query 2b Parquet\") \\\n",
    "    .getOrCreate()\n",
    "\n",
    "crime_data_2010_2019 = spark.read.csv(\"s3://initial-notebook-data-bucket-dblab-905418150721/CrimeData/Crime_Data_from_2010_to_2019_20241101.csv\", header=True, inferSchema=True)\n",
    "crime_data_2020_present = spark.read.csv(\"s3://initial-notebook-data-bucket-dblab-905418150721/CrimeData/Crime_Data_from_2020_to_Present_20241101.csv\", header=True, inferSchema=True)\n",
    "\n",
    "crime_data_2010_2019.write.mode('overwrite').parquet(\"s3://groups-bucket-dblab-905418150721/group21/Crime_Data_from_2010_to_2019_20241101.parquet\")\n",
    "crime_data_2020_present.write.mode('overwrite').parquet(\"s3://groups-bucket-dblab-905418150721/group21/Crime_Data_from_2020_to_Present_20241101.parquet\")\n"
   ]
  },
  {
   "cell_type": "code",
   "execution_count": 5,
   "id": "baf8d56e",
   "metadata": {},
   "outputs": [
    {
     "data": {
      "application/vnd.jupyter.widget-view+json": {
       "model_id": "",
       "version_major": 2,
       "version_minor": 0
      },
      "text/plain": [
       "FloatProgress(value=0.0, bar_style='info', description='Progress:', layout=Layout(height='25px', width='50%'),…"
      ]
     },
     "metadata": {},
     "output_type": "display_data"
    },
    {
     "name": "stdout",
     "output_type": "stream",
     "text": [
      "+----+-----------+-----------------+----+\n",
      "|year|precinct   |closed_case_rate |rank|\n",
      "+----+-----------+-----------------+----+\n",
      "|2010|Rampart    |32.84713448949121|1   |\n",
      "|2010|Olympic    |31.51528982199909|2   |\n",
      "|2010|Harbor     |29.36028339237341|3   |\n",
      "|2011|Olympic    |35.04006009013520|1   |\n",
      "|2011|Rampart    |32.49644718143060|2   |\n",
      "|2011|Harbor     |28.51336246316431|3   |\n",
      "|2012|Olympic    |34.29708533302119|1   |\n",
      "|2012|Rampart    |32.46000463714352|2   |\n",
      "|2012|Harbor     |29.50958584895668|3   |\n",
      "|2013|Olympic    |33.58217940999398|1   |\n",
      "|2013|Rampart    |32.10603829160530|2   |\n",
      "|2013|Harbor     |29.72363895148855|3   |\n",
      "|2014|Van Nuys   |32.02152352817050|1   |\n",
      "|2014|West Valley|31.49754809505847|2   |\n",
      "|2014|Mission    |31.22493985565357|3   |\n",
      "|2015|Van Nuys   |32.26514067715784|1   |\n",
      "|2015|Mission    |30.46376267367630|2   |\n",
      "|2015|Foothill   |30.35300180365885|3   |\n",
      "|2016|Van Nuys   |32.19451846212410|1   |\n",
      "|2016|West Valley|31.40146437042384|2   |\n",
      "|2016|Foothill   |29.90864722813165|3   |\n",
      "|2017|Van Nuys   |32.05542725173210|1   |\n",
      "|2017|Mission    |31.05538715899697|2   |\n",
      "|2017|Foothill   |30.46970065709418|3   |\n",
      "|2018|Foothill   |30.73134695887712|1   |\n",
      "|2018|Mission    |30.72702331961591|2   |\n",
      "|2018|Van Nuys   |28.90520694259012|3   |\n",
      "|2019|Mission    |30.72741111231923|1   |\n",
      "|2019|West Valley|30.57974335472044|2   |\n",
      "|2019|N Hollywood|29.23808669119627|3   |\n",
      "|2020|West Valley|30.77113198220465|1   |\n",
      "|2020|Mission    |30.14974649215894|2   |\n",
      "|2020|Harbor     |29.69348659003831|3   |\n",
      "|2021|Mission    |30.31811559009228|1   |\n",
      "|2021|West Valley|28.97108744000936|2   |\n",
      "|2021|Foothill   |27.99375709421112|3   |\n",
      "|2022|West Valley|26.53636717230650|1   |\n",
      "|2022|Harbor     |26.33753806002610|2   |\n",
      "|2022|Topanga    |26.23401331783110|3   |\n",
      "|2023|Foothill   |26.76076020122974|1   |\n",
      "|2023|Topanga    |26.53802261645399|2   |\n",
      "|2023|Mission    |25.66273112051682|3   |\n",
      "|2024|N Hollywood|19.59852896107876|1   |\n",
      "|2024|Foothill   |18.62088218872138|2   |\n",
      "|2024|77th Street|17.58631816715069|3   |\n",
      "+----+-----------+-----------------+----+\n",
      "\n",
      "SQL API Execution Time: 8.461588144302368 seconds\n",
      "SQL API Read Time: 7.538980960845947 seconds\n",
      "SQL API Total Time: 16.000569105148315 seconds"
     ]
    }
   ],
   "source": [
    "sql_api_time, sql_read_api_time, final_df = measure_execution_time(sql_implementation, \"Query 2b SQL\", \"parquet\")\n",
    "\n",
    "print(f\"SQL API Execution Time: {sql_api_time} seconds\")\n",
    "print(f\"SQL API Read Time: {sql_read_api_time} seconds\")\n",
    "print(f\"SQL API Total Time: {sql_api_time + sql_read_api_time} seconds\")"
   ]
  },
  {
   "cell_type": "code",
   "execution_count": 7,
   "id": "87eedf6f",
   "metadata": {},
   "outputs": [
    {
     "data": {
      "application/vnd.jupyter.widget-view+json": {
       "model_id": "",
       "version_major": 2,
       "version_minor": 0
      },
      "text/plain": [
       "FloatProgress(value=0.0, bar_style='info', description='Progress:', layout=Layout(height='25px', width='50%'),…"
      ]
     },
     "metadata": {},
     "output_type": "display_data"
    },
    {
     "name": "stdout",
     "output_type": "stream",
     "text": [
      "Final results saved to: s3://groups-bucket-dblab-905418150721/group21/top_performing_police_divisions/"
     ]
    }
   ],
   "source": [
    "# Define the S3 output path\n",
    "s3_path = \"s3://groups-bucket-dblab-905418150721/group21/top_performing_police_divisions/\"\n",
    "\n",
    "# Save the final results as a CSV\n",
    "final_df.coalesce(1).write.mode(\"overwrite\").csv(s3_path, header=True)\n",
    "print(f\"Final results saved to: {s3_path}\")"
   ]
  }
 ],
 "metadata": {
  "kernelspec": {
   "display_name": "Sparkmagic (PySpark)",
   "language": "python",
   "name": "pysparkkernel"
  },
  "language_info": {
   "codemirror_mode": {
    "name": "python",
    "version": 3
   },
   "file_extension": ".py",
   "mimetype": "text/x-python",
   "name": "pyspark",
   "pygments_lexer": "python3"
  }
 },
 "nbformat": 4,
 "nbformat_minor": 5
}
