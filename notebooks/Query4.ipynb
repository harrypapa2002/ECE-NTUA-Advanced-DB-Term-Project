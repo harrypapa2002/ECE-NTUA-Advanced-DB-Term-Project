{
 "cells": [
  {
   "cell_type": "markdown",
   "id": "22567b0a",
   "metadata": {},
   "source": [
    "# Query 4: Racial Profiling of Crime Victims\n",
    " \n",
    "## Description:\n",
    "\n",
    "The goal of Query 4 is to present the victim count for each racial group in the top 3 highest paid and bottom 3 lowest paid LA communities. The analysis includes:\n",
    "\n",
    "- Calculating the average per person income for each community and selecting the top 3 and bottom 3\n",
    "\n",
    "- Selecting crimes based on those communities\n",
    "\n",
    "- Counting the victims for each racial group\n",
    "\n",
    "## Configurations Tested\n",
    "\n",
    "- 2 executors $\\times$ 1 core / 2GB\n",
    "\n",
    "- 2 executors $\\times$ 2 cores / 4GB\n",
    "\n",
    "- 2 executors $\\times$ 4 cores / 8GB\n",
    "\n",
    "The results are saved as CSV files for further analysis. \n"
   ]
  },
  {
   "cell_type": "code",
   "execution_count": null,
   "id": "c921342c",
   "metadata": {},
   "outputs": [],
   "source": [
    "%%configure -f\n",
    "{\n",
    "    \"conf\": {\n",
    "        \"spark.executor.instances\": \"2\",\n",
    "        \"spark.executor.memory\": \"2g\",\n",
    "        \"spark.executor.cores\": \"1\"\n",
    "    }\n",
    "\n",
    "}"
   ]
  },
  {
   "cell_type": "code",
   "execution_count": null,
   "id": "c4e72cba",
   "metadata": {},
   "outputs": [],
   "source": [
    "%%configure -f\n",
    "{\n",
    "    \"conf\": {\n",
    "        \"spark.executor.instances\": \"2\",\n",
    "        \"spark.executor.memory\": \"4g\",\n",
    "        \"spark.executor.cores\": \"2\"\n",
    "    }\n",
    "}"
   ]
  },
  {
   "cell_type": "code",
   "execution_count": 1,
   "id": "e8d9f2a5",
   "metadata": {},
   "outputs": [
    {
     "data": {
      "text/html": [
       "Current session configs: <tt>{'conf': {'spark.sql.catalog.spark_catalog.type': 'hive', 'spark.executor.instances': '2', 'spark.executor.memory': '8g', 'spark.executor.cores': '4'}, 'kind': 'pyspark'}</tt><br>"
      ],
      "text/plain": [
       "<IPython.core.display.HTML object>"
      ]
     },
     "metadata": {},
     "output_type": "display_data"
    },
    {
     "data": {
      "text/html": [
       "<table>\n",
       "<tr><th>ID</th><th>YARN Application ID</th><th>Kind</th><th>State</th><th>Spark UI</th><th>Driver log</th><th>User</th><th>Current session?</th></tr><tr><td>2728</td><td>application_1732639283265_2687</td><td>pyspark</td><td>idle</td><td><a target=\"_blank\" href=\"http://ip-192-168-1-36.eu-central-1.compute.internal:20888/proxy/application_1732639283265_2687/\">Link</a></td><td><a target=\"_blank\" href=\"http://ip-192-168-1-80.eu-central-1.compute.internal:8042/node/containerlogs/container_1732639283265_2687_01_000001/livy\">Link</a></td><td>None</td><td></td></tr><tr><td>2773</td><td>application_1732639283265_2732</td><td>pyspark</td><td>idle</td><td><a target=\"_blank\" href=\"http://ip-192-168-1-36.eu-central-1.compute.internal:20888/proxy/application_1732639283265_2732/\">Link</a></td><td><a target=\"_blank\" href=\"http://ip-192-168-1-166.eu-central-1.compute.internal:8042/node/containerlogs/container_1732639283265_2732_01_000001/livy\">Link</a></td><td>None</td><td></td></tr><tr><td>2779</td><td>application_1732639283265_2738</td><td>pyspark</td><td>idle</td><td><a target=\"_blank\" href=\"http://ip-192-168-1-36.eu-central-1.compute.internal:20888/proxy/application_1732639283265_2738/\">Link</a></td><td><a target=\"_blank\" href=\"http://ip-192-168-1-91.eu-central-1.compute.internal:8042/node/containerlogs/container_1732639283265_2738_01_000001/livy\">Link</a></td><td>None</td><td></td></tr><tr><td>2783</td><td>application_1732639283265_2742</td><td>pyspark</td><td>idle</td><td><a target=\"_blank\" href=\"http://ip-192-168-1-36.eu-central-1.compute.internal:20888/proxy/application_1732639283265_2742/\">Link</a></td><td><a target=\"_blank\" href=\"http://ip-192-168-1-181.eu-central-1.compute.internal:8042/node/containerlogs/container_1732639283265_2742_01_000001/livy\">Link</a></td><td>None</td><td></td></tr><tr><td>2784</td><td>application_1732639283265_2743</td><td>pyspark</td><td>idle</td><td><a target=\"_blank\" href=\"http://ip-192-168-1-36.eu-central-1.compute.internal:20888/proxy/application_1732639283265_2743/\">Link</a></td><td><a target=\"_blank\" href=\"http://ip-192-168-1-80.eu-central-1.compute.internal:8042/node/containerlogs/container_1732639283265_2743_01_000001/livy\">Link</a></td><td>None</td><td></td></tr><tr><td>2786</td><td>application_1732639283265_2745</td><td>pyspark</td><td>idle</td><td><a target=\"_blank\" href=\"http://ip-192-168-1-36.eu-central-1.compute.internal:20888/proxy/application_1732639283265_2745/\">Link</a></td><td><a target=\"_blank\" href=\"http://ip-192-168-1-193.eu-central-1.compute.internal:8042/node/containerlogs/container_1732639283265_2745_01_000001/livy\">Link</a></td><td>None</td><td></td></tr><tr><td>2787</td><td>application_1732639283265_2746</td><td>pyspark</td><td>idle</td><td><a target=\"_blank\" href=\"http://ip-192-168-1-36.eu-central-1.compute.internal:20888/proxy/application_1732639283265_2746/\">Link</a></td><td><a target=\"_blank\" href=\"http://ip-192-168-1-203.eu-central-1.compute.internal:8042/node/containerlogs/container_1732639283265_2746_01_000002/livy\">Link</a></td><td>None</td><td></td></tr><tr><td>2791</td><td>application_1732639283265_2750</td><td>pyspark</td><td>idle</td><td><a target=\"_blank\" href=\"http://ip-192-168-1-36.eu-central-1.compute.internal:20888/proxy/application_1732639283265_2750/\">Link</a></td><td><a target=\"_blank\" href=\"http://ip-192-168-1-94.eu-central-1.compute.internal:8042/node/containerlogs/container_1732639283265_2750_01_000001/livy\">Link</a></td><td>None</td><td></td></tr><tr><td>2793</td><td>application_1732639283265_2752</td><td>pyspark</td><td>idle</td><td><a target=\"_blank\" href=\"http://ip-192-168-1-36.eu-central-1.compute.internal:20888/proxy/application_1732639283265_2752/\">Link</a></td><td><a target=\"_blank\" href=\"http://ip-192-168-1-178.eu-central-1.compute.internal:8042/node/containerlogs/container_1732639283265_2752_01_000001/livy\">Link</a></td><td>None</td><td></td></tr><tr><td>2797</td><td>application_1732639283265_2756</td><td>pyspark</td><td>idle</td><td><a target=\"_blank\" href=\"http://ip-192-168-1-36.eu-central-1.compute.internal:20888/proxy/application_1732639283265_2756/\">Link</a></td><td><a target=\"_blank\" href=\"http://ip-192-168-1-247.eu-central-1.compute.internal:8042/node/containerlogs/container_1732639283265_2756_01_000002/livy\">Link</a></td><td>None</td><td></td></tr><tr><td>2798</td><td>application_1732639283265_2757</td><td>pyspark</td><td>idle</td><td><a target=\"_blank\" href=\"http://ip-192-168-1-36.eu-central-1.compute.internal:20888/proxy/application_1732639283265_2757/\">Link</a></td><td><a target=\"_blank\" href=\"http://ip-192-168-1-178.eu-central-1.compute.internal:8042/node/containerlogs/container_1732639283265_2757_01_000001/livy\">Link</a></td><td>None</td><td></td></tr><tr><td>2806</td><td>application_1732639283265_2765</td><td>pyspark</td><td>idle</td><td><a target=\"_blank\" href=\"http://ip-192-168-1-36.eu-central-1.compute.internal:20888/proxy/application_1732639283265_2765/\">Link</a></td><td><a target=\"_blank\" href=\"http://ip-192-168-1-247.eu-central-1.compute.internal:8042/node/containerlogs/container_1732639283265_2765_01_000001/livy\">Link</a></td><td>None</td><td></td></tr><tr><td>2808</td><td>application_1732639283265_2767</td><td>pyspark</td><td>idle</td><td><a target=\"_blank\" href=\"http://ip-192-168-1-36.eu-central-1.compute.internal:20888/proxy/application_1732639283265_2767/\">Link</a></td><td><a target=\"_blank\" href=\"http://ip-192-168-1-94.eu-central-1.compute.internal:8042/node/containerlogs/container_1732639283265_2767_01_000001/livy\">Link</a></td><td>None</td><td></td></tr><tr><td>2812</td><td>application_1732639283265_2771</td><td>pyspark</td><td>idle</td><td><a target=\"_blank\" href=\"http://ip-192-168-1-36.eu-central-1.compute.internal:20888/proxy/application_1732639283265_2771/\">Link</a></td><td><a target=\"_blank\" href=\"http://ip-192-168-1-94.eu-central-1.compute.internal:8042/node/containerlogs/container_1732639283265_2771_01_000001/livy\">Link</a></td><td>None</td><td></td></tr><tr><td>2816</td><td>application_1732639283265_2775</td><td>pyspark</td><td>idle</td><td><a target=\"_blank\" href=\"http://ip-192-168-1-36.eu-central-1.compute.internal:20888/proxy/application_1732639283265_2775/\">Link</a></td><td><a target=\"_blank\" href=\"http://ip-192-168-1-181.eu-central-1.compute.internal:8042/node/containerlogs/container_1732639283265_2775_01_000001/livy\">Link</a></td><td>None</td><td></td></tr><tr><td>2817</td><td>application_1732639283265_2776</td><td>pyspark</td><td>idle</td><td><a target=\"_blank\" href=\"http://ip-192-168-1-36.eu-central-1.compute.internal:20888/proxy/application_1732639283265_2776/\">Link</a></td><td><a target=\"_blank\" href=\"http://ip-192-168-1-112.eu-central-1.compute.internal:8042/node/containerlogs/container_1732639283265_2776_01_000002/livy\">Link</a></td><td>None</td><td></td></tr><tr><td>2824</td><td>application_1732639283265_2783</td><td>pyspark</td><td>idle</td><td><a target=\"_blank\" href=\"http://ip-192-168-1-36.eu-central-1.compute.internal:20888/proxy/application_1732639283265_2783/\">Link</a></td><td><a target=\"_blank\" href=\"http://ip-192-168-1-166.eu-central-1.compute.internal:8042/node/containerlogs/container_1732639283265_2783_01_000002/livy\">Link</a></td><td>None</td><td></td></tr><tr><td>2825</td><td>application_1732639283265_2784</td><td>pyspark</td><td>idle</td><td><a target=\"_blank\" href=\"http://ip-192-168-1-36.eu-central-1.compute.internal:20888/proxy/application_1732639283265_2784/\">Link</a></td><td><a target=\"_blank\" href=\"http://ip-192-168-1-91.eu-central-1.compute.internal:8042/node/containerlogs/container_1732639283265_2784_01_000001/livy\">Link</a></td><td>None</td><td></td></tr><tr><td>2827</td><td>application_1732639283265_2786</td><td>pyspark</td><td>idle</td><td><a target=\"_blank\" href=\"http://ip-192-168-1-36.eu-central-1.compute.internal:20888/proxy/application_1732639283265_2786/\">Link</a></td><td><a target=\"_blank\" href=\"http://ip-192-168-1-233.eu-central-1.compute.internal:8042/node/containerlogs/container_1732639283265_2786_01_000001/livy\">Link</a></td><td>None</td><td></td></tr><tr><td>2829</td><td>application_1732639283265_2788</td><td>pyspark</td><td>idle</td><td><a target=\"_blank\" href=\"http://ip-192-168-1-36.eu-central-1.compute.internal:20888/proxy/application_1732639283265_2788/\">Link</a></td><td><a target=\"_blank\" href=\"http://ip-192-168-1-112.eu-central-1.compute.internal:8042/node/containerlogs/container_1732639283265_2788_01_000001/livy\">Link</a></td><td>None</td><td></td></tr><tr><td>2830</td><td>application_1732639283265_2789</td><td>pyspark</td><td>idle</td><td><a target=\"_blank\" href=\"http://ip-192-168-1-36.eu-central-1.compute.internal:20888/proxy/application_1732639283265_2789/\">Link</a></td><td><a target=\"_blank\" href=\"http://ip-192-168-1-91.eu-central-1.compute.internal:8042/node/containerlogs/container_1732639283265_2789_01_000002/livy\">Link</a></td><td>None</td><td></td></tr><tr><td>2832</td><td>application_1732639283265_2791</td><td>pyspark</td><td>idle</td><td><a target=\"_blank\" href=\"http://ip-192-168-1-36.eu-central-1.compute.internal:20888/proxy/application_1732639283265_2791/\">Link</a></td><td><a target=\"_blank\" href=\"http://ip-192-168-1-193.eu-central-1.compute.internal:8042/node/containerlogs/container_1732639283265_2791_01_000002/livy\">Link</a></td><td>None</td><td></td></tr><tr><td>2838</td><td>application_1732639283265_2797</td><td>pyspark</td><td>idle</td><td><a target=\"_blank\" href=\"http://ip-192-168-1-36.eu-central-1.compute.internal:20888/proxy/application_1732639283265_2797/\">Link</a></td><td><a target=\"_blank\" href=\"http://ip-192-168-1-247.eu-central-1.compute.internal:8042/node/containerlogs/container_1732639283265_2797_01_000001/livy\">Link</a></td><td>None</td><td></td></tr><tr><td>2842</td><td>application_1732639283265_2801</td><td>pyspark</td><td>idle</td><td><a target=\"_blank\" href=\"http://ip-192-168-1-36.eu-central-1.compute.internal:20888/proxy/application_1732639283265_2801/\">Link</a></td><td><a target=\"_blank\" href=\"http://ip-192-168-1-227.eu-central-1.compute.internal:8042/node/containerlogs/container_1732639283265_2801_01_000002/livy\">Link</a></td><td>None</td><td></td></tr><tr><td>2851</td><td>application_1732639283265_2810</td><td>pyspark</td><td>idle</td><td><a target=\"_blank\" href=\"http://ip-192-168-1-36.eu-central-1.compute.internal:20888/proxy/application_1732639283265_2810/\">Link</a></td><td><a target=\"_blank\" href=\"http://ip-192-168-1-178.eu-central-1.compute.internal:8042/node/containerlogs/container_1732639283265_2810_01_000001/livy\">Link</a></td><td>None</td><td></td></tr><tr><td>2852</td><td>application_1732639283265_2811</td><td>pyspark</td><td>idle</td><td><a target=\"_blank\" href=\"http://ip-192-168-1-36.eu-central-1.compute.internal:20888/proxy/application_1732639283265_2811/\">Link</a></td><td><a target=\"_blank\" href=\"http://ip-192-168-1-178.eu-central-1.compute.internal:8042/node/containerlogs/container_1732639283265_2811_01_000001/livy\">Link</a></td><td>None</td><td></td></tr><tr><td>2884</td><td>application_1732639283265_2843</td><td>pyspark</td><td>idle</td><td><a target=\"_blank\" href=\"http://ip-192-168-1-36.eu-central-1.compute.internal:20888/proxy/application_1732639283265_2843/\">Link</a></td><td><a target=\"_blank\" href=\"http://ip-192-168-1-94.eu-central-1.compute.internal:8042/node/containerlogs/container_1732639283265_2843_01_000001/livy\">Link</a></td><td>None</td><td></td></tr><tr><td>2885</td><td>application_1732639283265_2844</td><td>pyspark</td><td>idle</td><td><a target=\"_blank\" href=\"http://ip-192-168-1-36.eu-central-1.compute.internal:20888/proxy/application_1732639283265_2844/\">Link</a></td><td><a target=\"_blank\" href=\"http://ip-192-168-1-91.eu-central-1.compute.internal:8042/node/containerlogs/container_1732639283265_2844_01_000001/livy\">Link</a></td><td>None</td><td></td></tr><tr><td>2887</td><td>application_1732639283265_2846</td><td>pyspark</td><td>idle</td><td><a target=\"_blank\" href=\"http://ip-192-168-1-36.eu-central-1.compute.internal:20888/proxy/application_1732639283265_2846/\">Link</a></td><td><a target=\"_blank\" href=\"http://ip-192-168-1-80.eu-central-1.compute.internal:8042/node/containerlogs/container_1732639283265_2846_01_000001/livy\">Link</a></td><td>None</td><td></td></tr><tr><td>2891</td><td>application_1732639283265_2850</td><td>pyspark</td><td>idle</td><td><a target=\"_blank\" href=\"http://ip-192-168-1-36.eu-central-1.compute.internal:20888/proxy/application_1732639283265_2850/\">Link</a></td><td><a target=\"_blank\" href=\"http://ip-192-168-1-203.eu-central-1.compute.internal:8042/node/containerlogs/container_1732639283265_2850_01_000001/livy\">Link</a></td><td>None</td><td></td></tr><tr><td>2894</td><td>application_1732639283265_2853</td><td>pyspark</td><td>idle</td><td><a target=\"_blank\" href=\"http://ip-192-168-1-36.eu-central-1.compute.internal:20888/proxy/application_1732639283265_2853/\">Link</a></td><td><a target=\"_blank\" href=\"http://ip-192-168-1-112.eu-central-1.compute.internal:8042/node/containerlogs/container_1732639283265_2853_01_000001/livy\">Link</a></td><td>None</td><td></td></tr><tr><td>2895</td><td>application_1732639283265_2854</td><td>pyspark</td><td>busy</td><td><a target=\"_blank\" href=\"http://ip-192-168-1-36.eu-central-1.compute.internal:20888/proxy/application_1732639283265_2854/\">Link</a></td><td><a target=\"_blank\" href=\"http://ip-192-168-1-80.eu-central-1.compute.internal:8042/node/containerlogs/container_1732639283265_2854_01_000001/livy\">Link</a></td><td>None</td><td></td></tr><tr><td>2911</td><td>application_1732639283265_2870</td><td>pyspark</td><td>idle</td><td><a target=\"_blank\" href=\"http://ip-192-168-1-36.eu-central-1.compute.internal:20888/proxy/application_1732639283265_2870/\">Link</a></td><td><a target=\"_blank\" href=\"http://ip-192-168-1-80.eu-central-1.compute.internal:8042/node/containerlogs/container_1732639283265_2870_01_000001/livy\">Link</a></td><td>None</td><td></td></tr><tr><td>2912</td><td>application_1732639283265_2871</td><td>pyspark</td><td>idle</td><td><a target=\"_blank\" href=\"http://ip-192-168-1-36.eu-central-1.compute.internal:20888/proxy/application_1732639283265_2871/\">Link</a></td><td><a target=\"_blank\" href=\"http://ip-192-168-1-91.eu-central-1.compute.internal:8042/node/containerlogs/container_1732639283265_2871_01_000001/livy\">Link</a></td><td>None</td><td></td></tr><tr><td>2916</td><td>application_1732639283265_2875</td><td>pyspark</td><td>idle</td><td><a target=\"_blank\" href=\"http://ip-192-168-1-36.eu-central-1.compute.internal:20888/proxy/application_1732639283265_2875/\">Link</a></td><td><a target=\"_blank\" href=\"http://ip-192-168-1-112.eu-central-1.compute.internal:8042/node/containerlogs/container_1732639283265_2875_01_000001/livy\">Link</a></td><td>None</td><td></td></tr><tr><td>2917</td><td>application_1732639283265_2876</td><td>pyspark</td><td>idle</td><td><a target=\"_blank\" href=\"http://ip-192-168-1-36.eu-central-1.compute.internal:20888/proxy/application_1732639283265_2876/\">Link</a></td><td><a target=\"_blank\" href=\"http://ip-192-168-1-203.eu-central-1.compute.internal:8042/node/containerlogs/container_1732639283265_2876_01_000001/livy\">Link</a></td><td>None</td><td></td></tr><tr><td>2918</td><td>application_1732639283265_2877</td><td>pyspark</td><td>idle</td><td><a target=\"_blank\" href=\"http://ip-192-168-1-36.eu-central-1.compute.internal:20888/proxy/application_1732639283265_2877/\">Link</a></td><td><a target=\"_blank\" href=\"http://ip-192-168-1-247.eu-central-1.compute.internal:8042/node/containerlogs/container_1732639283265_2877_01_000001/livy\">Link</a></td><td>None</td><td></td></tr></table>"
      ],
      "text/plain": [
       "<IPython.core.display.HTML object>"
      ]
     },
     "metadata": {},
     "output_type": "display_data"
    }
   ],
   "source": [
    "%%configure -f\n",
    "{\n",
    "    \"conf\": {\n",
    "        \"spark.executor.instances\": \"2\",\n",
    "        \"spark.executor.memory\": \"8g\",\n",
    "        \"spark.executor.cores\": \"4\"\n",
    "    }\n",
    "}"
   ]
  },
  {
   "cell_type": "code",
   "execution_count": 3,
   "id": "b5b0a9ee",
   "metadata": {},
   "outputs": [
    {
     "data": {
      "application/vnd.jupyter.widget-view+json": {
       "model_id": "",
       "version_major": 2,
       "version_minor": 0
      },
      "text/plain": [
       "FloatProgress(value=0.0, bar_style='info', description='Progress:', layout=Layout(height='25px', width='50%'),…"
      ]
     },
     "metadata": {},
     "output_type": "display_data"
    }
   ],
   "source": [
    "from pyspark.sql import SparkSession\n",
    "from pyspark.sql.functions import col, count, regexp_replace, cast, to_date, year, expr, desc, asc, row_number, sum, round\n",
    "from pyspark.sql.window import Window\n",
    "from sedona.spark import *\n",
    "from sedona.sql import *\n",
    "import time\n",
    "\n",
    "def query4(spark):\n",
    "    print(\"Running query with the following configuration:\")\n",
    "    conf = spark.sparkContext.getConf()\n",
    "\n",
    "    print(\"Executor Instances:\", conf.get(\"spark.executor.instances\"))\n",
    "    print(\"Executor Memory:\", conf.get(\"spark.executor.memory\"))\n",
    "    print(\"Executor Cores:\", conf.get(\"spark.executor.cores\"))\n",
    "    start_time = time.time()\n",
    "    \n",
    "    crime_data = spark.read.csv(\n",
    "        \"s3://initial-notebook-data-bucket-dblab-905418150721/CrimeData/Crime_Data_from_2010_to_2019_20241101.csv\",\n",
    "        header=True,\n",
    "        inferSchema=True\n",
    "    ).filter((col(\"LAT\") != 0) | (col(\"LON\") != 0)) \\\n",
    "    .withColumn(\"geom\", expr(\"ST_Point(LON, LAT)\")) \n",
    "\n",
    "    income_data = spark.read.csv(\n",
    "        \"s3://initial-notebook-data-bucket-dblab-905418150721/LA_income_2015.csv\",\n",
    "        header=True,\n",
    "        inferSchema=True\n",
    "    )\n",
    "    \n",
    "    race_ethnicity_codes = spark.read.csv(\n",
    "        \"s3://initial-notebook-data-bucket-dblab-905418150721/RE_codes.csv\",\n",
    "        header=True,\n",
    "        inferSchema=True\n",
    "    )\n",
    "    \n",
    "    \n",
    "    blocks_df = sedona.read.format(\"geojson\") \\\n",
    "        .option(\"multiLine\", \"true\").load(\"s3://initial-notebook-data-bucket-dblab-905418150721/2010_Census_Blocks.geojson\") \\\n",
    "        .selectExpr(\"explode(features) as features\") \\\n",
    "        .select(\"features.*\")\n",
    "\n",
    "    flattened_df = blocks_df.select(\n",
    "        [col(f\"properties.{col_name}\").alias(col_name) for col_name in blocks_df.schema[\"properties\"].dataType.fieldNames()] + [\"geometry\"]\n",
    "    ).drop(\"properties\").drop(\"type\")\n",
    "\n",
    "    zipcode_df = flattened_df.filter((col(\"CITY\") == \"Los Angeles\")) \\\n",
    "        .select(\n",
    "            col(\"COMM\"),\n",
    "            col(\"ZCTA10\").alias(\"ZIPCODE\"),\n",
    "            col(\"POP_2010\").alias(\"POPULATION\"),\n",
    "            col(\"HOUSING10\").alias(\"HOUSING_UNITS\"),\n",
    "            col(\"geometry\")\n",
    "        )\n",
    "\n",
    "    income = income_data.withColumn(\n",
    "        \"ZIPCODE\",\n",
    "        col(\"Zip Code\")\n",
    "    ).withColumn(\n",
    "        \"MEDIAN_INCOME\",\n",
    "        regexp_replace(col(\"Estimated Median Income\"), \"[$,]\", \"\").cast(\"double\")\n",
    "    ).select(\"ZIPCODE\", \"MEDIAN_INCOME\")\n",
    "\n",
    "    zipcode_income = zipcode_df.join(\n",
    "        income, \n",
    "        on=\"ZIPCODE\",\n",
    "        how=\"inner\"\n",
    "    )\n",
    "    \n",
    "    zipcode_income_agg = zipcode_income.groupBy(\"COMM\").agg(\n",
    "                sum(\"POPULATION\").alias(\"TOTAL_POPULATION\"),\n",
    "                sum(col(\"HOUSING_UNITS\") * col(\"MEDIAN_INCOME\")).alias(\"TOTAL_INCOME\"),\n",
    "                ST_Union_Aggr(\"geometry\").alias(\"geometry\")\n",
    "            ).withColumn(\n",
    "                    \"AVERAGE_INCOME_PER_PERSON\",\n",
    "                    round(col(\"TOTAL_INCOME\") / col(\"TOTAL_POPULATION\"), 2)\n",
    "            )\n",
    "    \n",
    "    top3_income =  zipcode_income_agg.orderBy(desc(\"AVERAGE_INCOME_PER_PERSON\")).select(\"geometry\").limit(3)\n",
    "    bottom3_income =  zipcode_income_agg.orderBy(asc(\"AVERAGE_INCOME_PER_PERSON\")).select(\"geometry\").limit(3)\n",
    "    \n",
    "    crime_data_2015 = crime_data \\\n",
    "        .withColumn(\"Date\", to_date(col(\"DATE OCC\"), \"MM/dd/yyyy hh:mm:ss a\")) \\\n",
    "        .filter(year(col(\"Date\")) == 2015)\n",
    "\n",
    "    top3_crime_income_joined = crime_data_2015.join(    \n",
    "        top3_income,\n",
    "        expr(\"ST_Within(geom, geometry)\"),\n",
    "        \"inner\"\n",
    "    )\n",
    "    \n",
    "    bottom3_crime_income_joined = crime_data_2015.join(    \n",
    "        bottom3_income,\n",
    "        expr(\"ST_Within(geom, geometry)\"),\n",
    "        \"inner\"\n",
    "    )\n",
    "    \n",
    "    top3_crime_income_joined = top3_crime_income_joined.join(\n",
    "        race_ethnicity_codes,\n",
    "        \"Vict Descent\",\n",
    "        \"inner\"\n",
    "    )\n",
    "    \n",
    "    bottom3_crime_income_joined = bottom3_crime_income_joined.join(\n",
    "        race_ethnicity_codes,\n",
    "        \"Vict Descent\",\n",
    "        \"inner\"\n",
    "    )    \n",
    "    \n",
    "    top3_victim_counts = top3_crime_income_joined.groupBy(\"Vict Descent Full\") \\\n",
    "         .count() \\\n",
    "         .withColumnRenamed(\"count\", \"#\") \\\n",
    "         .withColumnRenamed(\"Vict Descent Full\", \"Victim Descent\") \\\n",
    "         .orderBy(desc(\"#\"))\n",
    "    \n",
    "    bottom3_victim_counts = bottom3_crime_income_joined.groupBy(\"Vict Descent Full\") \\\n",
    "         .count() \\\n",
    "         .withColumnRenamed(\"count\", \"#\") \\\n",
    "         .withColumnRenamed(\"Vict Descent Full\", \"Victim Descent\") \\\n",
    "         .orderBy(desc(\"#\"))\n",
    "    \n",
    "    print(\"Top Income Groups Victim Counts\")\n",
    "    top3_victim_counts.show(truncate=False)\n",
    "\n",
    "    print(\"Bottom Income Groups Victim Counts\")\n",
    "    bottom3_victim_counts.show(truncate=False)\n",
    "    \n",
    "    print(f\"Time elapsed {time.time()-start_time}\")\n",
    "    return top3_victim_counts, bottom3_victim_counts"
   ]
  },
  {
   "cell_type": "code",
   "execution_count": 6,
   "id": "258fa997",
   "metadata": {},
   "outputs": [
    {
     "data": {
      "application/vnd.jupyter.widget-view+json": {
       "model_id": "",
       "version_major": 2,
       "version_minor": 0
      },
      "text/plain": [
       "FloatProgress(value=0.0, bar_style='info', description='Progress:', layout=Layout(height='25px', width='50%'),…"
      ]
     },
     "metadata": {},
     "output_type": "display_data"
    },
    {
     "name": "stdout",
     "output_type": "stream",
     "text": [
      "Running query with the following configuration:\n",
      "Executor Instances: 2\n",
      "Executor Memory: 8g\n",
      "Executor Cores: 4\n",
      "Top Income Groups Victim Counts\n",
      "+------------------------------+---+\n",
      "|Victim Descent                |#  |\n",
      "+------------------------------+---+\n",
      "|White                         |695|\n",
      "|Other                         |86 |\n",
      "|Hispanic/Latin/Mexican        |77 |\n",
      "|Unknown                       |49 |\n",
      "|Black                         |43 |\n",
      "|Other Asian                   |22 |\n",
      "|Chinese                       |1  |\n",
      "|American Indian/Alaskan Native|1  |\n",
      "+------------------------------+---+\n",
      "\n",
      "Bottom Income Groups Victim Counts\n",
      "+------------------------------+----+\n",
      "|Victim Descent                |#   |\n",
      "+------------------------------+----+\n",
      "|Hispanic/Latin/Mexican        |3342|\n",
      "|Black                         |1127|\n",
      "|White                         |428 |\n",
      "|Other                         |252 |\n",
      "|Other Asian                   |138 |\n",
      "|Unknown                       |30  |\n",
      "|American Indian/Alaskan Native|23  |\n",
      "|Korean                        |4   |\n",
      "|Filipino                      |3   |\n",
      "|Chinese                       |3   |\n",
      "|AsianIndian                   |1   |\n",
      "|Guamanian                     |1   |\n",
      "+------------------------------+----+\n",
      "\n",
      "Time elapsed 49.57776165008545"
     ]
    }
   ],
   "source": [
    "spark = SparkSession.builder \\\n",
    "    .appName(\"Query 4\") \\\n",
    "    .getOrCreate()\n",
    "\n",
    "sedona = SedonaContext.create(spark)\n",
    "conf = spark.sparkContext.getConf()\n",
    "top_df, bottom_df = query4(spark)"
   ]
  },
  {
   "cell_type": "code",
   "execution_count": 5,
   "id": "802bfaae",
   "metadata": {},
   "outputs": [
    {
     "data": {
      "application/vnd.jupyter.widget-view+json": {
       "model_id": "",
       "version_major": 2,
       "version_minor": 0
      },
      "text/plain": [
       "FloatProgress(value=0.0, bar_style='info', description='Progress:', layout=Layout(height='25px', width='50%'),…"
      ]
     },
     "metadata": {},
     "output_type": "display_data"
    },
    {
     "name": "stdout",
     "output_type": "stream",
     "text": [
      "Final results saved to: s3://groups-bucket-dblab-905418150721/group21/racial_profiling_top3/\n",
      "Final results saved to: s3://groups-bucket-dblab-905418150721/group21/racial_profiling_bottom3/"
     ]
    }
   ],
   "source": [
    "# Define the S3 output path\n",
    "top_s3_path = \"s3://groups-bucket-dblab-905418150721/group21/racial_profiling_top3/\"\n",
    "bottom_s3_path = \"s3://groups-bucket-dblab-905418150721/group21/racial_profiling_bottom3/\"\n",
    "# Save the final results as a CSV\n",
    "top_df.coalesce(1).write.mode(\"overwrite\").csv(top_s3_path, header=True)\n",
    "print(f\"Final results saved to: {top_s3_path}\")\n",
    "bottom_df.coalesce(1).write.mode(\"overwrite\").csv(bottom_s3_path, header=True)\n",
    "print(f\"Final results saved to: {bottom_s3_path}\")"
   ]
  }
 ],
 "metadata": {
  "kernelspec": {
   "display_name": "Sparkmagic (PySpark)",
   "language": "python",
   "name": "pysparkkernel"
  },
  "language_info": {
   "codemirror_mode": {
    "name": "python",
    "version": 3
   },
   "file_extension": ".py",
   "mimetype": "text/x-python",
   "name": "pyspark",
   "pygments_lexer": "python3"
  }
 },
 "nbformat": 4,
 "nbformat_minor": 5
}
